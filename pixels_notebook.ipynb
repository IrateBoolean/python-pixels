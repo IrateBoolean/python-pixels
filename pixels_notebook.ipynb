{
 "cells": [
  {
   "cell_type": "code",
   "execution_count": 25,
   "id": "boring-bowling",
   "metadata": {},
   "outputs": [],
   "source": [
    "import pandas as pd"
   ]
  },
  {
   "cell_type": "code",
   "execution_count": 26,
   "id": "falling-caution",
   "metadata": {},
   "outputs": [
    {
     "name": "stdout",
     "output_type": "stream",
     "text": [
      "         pixel_history_id                  created_at    x    y     rgb  \\\n",
      "0                15723665  2021-05-24 23:09:06.954508    0    0  D32EC3   \n",
      "1                15723666  2021-05-24 23:09:11.995453   10   10  16FFFF   \n",
      "2                15723667   2021-05-24 23:10:40.13338   80   45  FF00FF   \n",
      "3                15723668  2021-05-24 23:10:43.892684    5   10  6ef407   \n",
      "4                15723669  2021-05-24 23:13:40.252519    0    0  D32EC3   \n",
      "...                   ...                         ...  ...  ...     ...   \n",
      "2312739          18119358  2021-06-14 17:00:19.009759  190   50  ba7941   \n",
      "2312740          18119359  2021-06-14 17:00:22.995328  164  108  FFFFFF   \n",
      "2312741          18119360  2021-06-14 17:00:24.589962  191   50  bc753d   \n",
      "2312742          18119361  2021-06-14 17:00:26.988096  105   70  f965a6   \n",
      "2312743          18119362  2021-06-14 17:00:27.535293  266   19  caa4f4   \n",
      "\n",
      "                                    user_uuid  \n",
      "0        91728a72-d0e6-473c-a057-c66db410beb3  \n",
      "1        902cab41-3082-48f5-80ab-f6c923895acf  \n",
      "2        4986d11b-1c38-4334-9f0a-1f0176778944  \n",
      "3        ef2f69be-c508-487d-9855-3fb80bac6079  \n",
      "4        91728a72-d0e6-473c-a057-c66db410beb3  \n",
      "...                                       ...  \n",
      "2312739  0a3fc585-db76-4b0d-921d-a4d7da7b91dc  \n",
      "2312740  464c0adc-77e8-4b2b-874d-3dfe674e4f66  \n",
      "2312741  fe61930b-0f7a-4983-8c7a-8bdd015f1750  \n",
      "2312742  177bc7a3-1911-461c-b87f-054dd54659db  \n",
      "2312743  660f439c-4eb1-43a0-a3ab-dc38f12d4d7d  \n",
      "\n",
      "[2312744 rows x 6 columns]\n"
     ]
    }
   ],
   "source": [
    "history = pd.read_csv('history.csv')\n",
    "print(history)"
   ]
  }
 ],
 "metadata": {
  "kernelspec": {
   "display_name": "Python 3",
   "language": "python",
   "name": "python3"
  },
  "language_info": {
   "codemirror_mode": {
    "name": "ipython",
    "version": 3
   },
   "file_extension": ".py",
   "mimetype": "text/x-python",
   "name": "python",
   "nbconvert_exporter": "python",
   "pygments_lexer": "ipython3",
   "version": "3.8.5"
  }
 },
 "nbformat": 4,
 "nbformat_minor": 5
}
